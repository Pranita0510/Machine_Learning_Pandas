{
 "cells": [
  {
   "cell_type": "code",
   "execution_count": 3,
   "id": "a8442c7c-5145-4c70-bbed-5b80f12f4a59",
   "metadata": {},
   "outputs": [
    {
     "ename": "SyntaxError",
     "evalue": "invalid syntax (70711781.py, line 3)",
     "output_type": "error",
     "traceback": [
      "\u001b[1;36m  Cell \u001b[1;32mIn[3], line 3\u001b[1;36m\u001b[0m\n\u001b[1;33m    pip install pandas\u001b[0m\n\u001b[1;37m        ^\u001b[0m\n\u001b[1;31mSyntaxError\u001b[0m\u001b[1;31m:\u001b[0m invalid syntax\n"
     ]
    }
   ],
   "source": [
    "# Install Pandas  (Go to Command Prompt And Install)  (use this(!pip install pandas / %pip install pandas))\n",
    "\n",
    "pip install pandas"
   ]
  },
  {
   "cell_type": "markdown",
   "id": "dae1e33e-fe54-4d70-bb18-bf9e365498f7",
   "metadata": {},
   "source": [
    "Pandas"
   ]
  },
  {
   "cell_type": "code",
   "execution_count": null,
   "id": "a6a00d2f-8646-4310-94d3-b4ed25edf4c3",
   "metadata": {},
   "outputs": [],
   "source": [
    "# Importing Pandas\n",
    "\n",
    "import pandas as pd"
   ]
  },
  {
   "cell_type": "code",
   "execution_count": null,
   "id": "327bec3c-ed9b-456d-b50d-822213c897b0",
   "metadata": {},
   "outputs": [],
   "source": [
    "# Cheaking Version of Pandas\n",
    "\n",
    "print(pd.__version__)"
   ]
  },
  {
   "cell_type": "code",
   "execution_count": null,
   "id": "4ffe7fec-1063-4eae-bc68-064aa195339c",
   "metadata": {},
   "outputs": [],
   "source": [
    "# Series in Pandas   (Stores values only in single column)\n",
    "\n",
    "A =[1.0,2.4,3.4,4,5,6,7]\n",
    "myvar = pd.Series(A)\n",
    "print(myvar)"
   ]
  },
  {
   "cell_type": "code",
   "execution_count": null,
   "id": "b7f0ed20-4b6b-41af-96cd-fa41854bf93d",
   "metadata": {},
   "outputs": [],
   "source": [
    "# Dictionary in Pandas\n",
    "\n",
    "data = {\n",
    "    'Name' :[\"Pranita\",\"Manju\",\"Sayali\",\"Achal\",\"Vaishnavi\"],\n",
    "    'Age' :[12,4,23,25,30],\n",
    "    'Score' :[85,67,90,78,95]\n",
    "}\n",
    "df = pd.DataFrame(data)\n",
    "print(df)"
   ]
  },
  {
   "cell_type": "code",
   "execution_count": null,
   "id": "2a6d66f3-6533-49d4-9da8-5f82056a8721",
   "metadata": {},
   "outputs": [],
   "source": [
    "# Locating values  (Access specific data)\n",
    "\n",
    "print(df.loc[::2])"
   ]
  },
  {
   "cell_type": "code",
   "execution_count": null,
   "id": "7f75be0b-dc06-47d4-9dc2-aa1453a67005",
   "metadata": {},
   "outputs": [],
   "source": [
    "#locate specific value\n",
    "\n",
    "print(df.loc[2,'Score'])"
   ]
  },
  {
   "cell_type": "code",
   "execution_count": null,
   "id": "28d05ef9-7487-4908-84f7-63cffe86be34",
   "metadata": {
    "scrolled": true
   },
   "outputs": [],
   "source": [
    "# Importing Dataset\n",
    "  \n",
    "# For CSV dataset\n",
    "ds = pd.read_csv(\"data.csv\")\n",
    "print(ds)"
   ]
  },
  {
   "cell_type": "code",
   "execution_count": null,
   "id": "278b3b04-990e-4d83-8419-4e864157726c",
   "metadata": {},
   "outputs": [],
   "source": [
    "#For Excel dataset\n",
    "\n",
    "ds = pd.read_excel(\"data.xlsx\")\n",
    "print(ds)"
   ]
  },
  {
   "cell_type": "code",
   "execution_count": null,
   "id": "d73fd231-9a34-4a5c-ada5-bcc19804c7fe",
   "metadata": {},
   "outputs": [],
   "source": [
    "#For Excel dataset\n",
    "ds = pd.read_json(\"data.json\")\n",
    "print(ds)"
   ]
  },
  {
   "cell_type": "code",
   "execution_count": null,
   "id": "1b21d429-f2a3-4d6e-986a-f197c7841080",
   "metadata": {},
   "outputs": [],
   "source": [
    "# To Visible all data\n",
    "\n",
    "print(ds.to_string()) "
   ]
  },
  {
   "cell_type": "code",
   "execution_count": null,
   "id": "f65bf1f0-da79-4940-b6f6-1fa122144f73",
   "metadata": {},
   "outputs": [],
   "source": [
    "# Analyse data\n",
    "\n",
    "# Finding or accessing First and last data elemnts\n",
    "\n",
    "print(ds.head(5))            #first data element\n",
    "\n",
    "print(ds.tail(5))            #last data element"
   ]
  },
  {
   "cell_type": "code",
   "execution_count": null,
   "id": "5084933b-3d81-46e6-9d53-836493b77078",
   "metadata": {},
   "outputs": [],
   "source": [
    "# Getting information about dataset\n",
    "\n",
    "df.info()"
   ]
  },
  {
   "cell_type": "code",
   "execution_count": null,
   "id": "1fc359fd-875d-4dc1-bc7a-a188e634efb2",
   "metadata": {},
   "outputs": [],
   "source": [
    "# Getting information about dataset\n",
    "\n",
    "ds.info()"
   ]
  },
  {
   "cell_type": "code",
   "execution_count": null,
   "id": "c65d526c-ed53-4b29-be45-2f8aafc18915",
   "metadata": {},
   "outputs": [],
   "source": [
    "# Describe dataset\n",
    "\n",
    "df.describe()"
   ]
  },
  {
   "cell_type": "code",
   "execution_count": null,
   "id": "9a5374f7-00bf-4cda-be87-2139a7d020be",
   "metadata": {},
   "outputs": [],
   "source": [
    "# Describe dataset\n",
    "\n",
    "ds.describe()"
   ]
  },
  {
   "cell_type": "code",
   "execution_count": null,
   "id": "0100b20f-1873-426f-b322-9e4cd12c454a",
   "metadata": {},
   "outputs": [],
   "source": [
    "# Finding Unique values(Without repeating values)\n",
    "\n",
    "ds[\"Duration\"].unique()"
   ]
  },
  {
   "cell_type": "code",
   "execution_count": null,
   "id": "26e06d21-df64-46f4-809c-ce6833bb4ffa",
   "metadata": {},
   "outputs": [],
   "source": [
    "ds[\"Pulse\"].unique()"
   ]
  },
  {
   "cell_type": "code",
   "execution_count": null,
   "id": "a4054065-3eae-4a8e-bd7e-2d97cf249646",
   "metadata": {},
   "outputs": [],
   "source": [
    "ds[\"Maxpulse\"].unique()"
   ]
  },
  {
   "cell_type": "code",
   "execution_count": null,
   "id": "0a821e10-05bc-43ac-8869-d08a0c4982bf",
   "metadata": {},
   "outputs": [],
   "source": []
  }
 ],
 "metadata": {
  "kernelspec": {
   "display_name": "Python 3 (ipykernel)",
   "language": "python",
   "name": "python3"
  },
  "language_info": {
   "codemirror_mode": {
    "name": "ipython",
    "version": 3
   },
   "file_extension": ".py",
   "mimetype": "text/x-python",
   "name": "python",
   "nbconvert_exporter": "python",
   "pygments_lexer": "ipython3",
   "version": "3.12.7"
  }
 },
 "nbformat": 4,
 "nbformat_minor": 5
}
